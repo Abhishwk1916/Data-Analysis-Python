{
 "cells": [
  {
   "cell_type": "markdown",
   "metadata": {},
   "source": [
    "# Techniques for the Assignment 2/2"
   ]
  },
  {
   "cell_type": "markdown",
   "metadata": {},
   "source": [
    "JD Sports and Frasers Group as used as exmaples in this session."
   ]
  },
  {
   "cell_type": "markdown",
   "metadata": {},
   "source": [
    "## Download the required data"
   ]
  },
  {
   "cell_type": "markdown",
   "metadata": {},
   "source": [
    "You need to download the daily prices from 02/03/2020 to 28/02/2022. Then set the last 20 days as the test set and the first 485 days (for this example, yours may vary) as the training set."
   ]
  },
  {
   "cell_type": "code",
   "execution_count": null,
   "metadata": {},
   "outputs": [],
   "source": [
    "# import required libraries or commands within a library"
   ]
  },
  {
   "cell_type": "code",
   "execution_count": null,
   "metadata": {
    "scrolled": true
   },
   "outputs": [],
   "source": [
    "pip install yfinance"
   ]
  },
  {
   "cell_type": "code",
   "execution_count": null,
   "metadata": {},
   "outputs": [],
   "source": [
    "import pandas as pd\n",
    "import yfinance as yf\n",
    "import numpy as np"
   ]
  },
  {
   "cell_type": "code",
   "execution_count": null,
   "metadata": {},
   "outputs": [],
   "source": [
    "\n",
    "import matplotlib.pyplot as plt\n",
    "from sklearn.metrics import mean_absolute_error as MAE\n",
    "from sklearn.metrics import mean_squared_error as MSE\n",
    "#from sklearn.metrics import mean_absolute_percentage_error as MAPE\n",
    "import statsmodels.api as sa\n",
    "import statsmodels.formula.api as sfa\n",
    "from statsmodels.tsa.api import ExponentialSmoothing as TES \n",
    "from statsmodels.tsa.api import SimpleExpSmoothing as SES\n",
    "from statsmodels.tsa.api import Holt as DES"
   ]
  },
  {
   "cell_type": "code",
   "execution_count": null,
   "metadata": {},
   "outputs": [],
   "source": [
    "# Download JD Sports prices\n",
    "Smurfit=yf.download('SKG.L',start='2020-03-02',end='2022-03-01')\n",
    "Mondi=yf.download('MNDI.L',start='2020-03-02',end='2022-03-01')\n",
    "FTSE=yf.download('^FTSE',start='2020-03-02',end='2022-03-01')"
   ]
  },
  {
   "cell_type": "code",
   "execution_count": null,
   "metadata": {},
   "outputs": [],
   "source": [
    "Smurfit"
   ]
  },
  {
   "cell_type": "code",
   "execution_count": null,
   "metadata": {},
   "outputs": [],
   "source": [
    "Mondi"
   ]
  },
  {
   "cell_type": "code",
   "execution_count": null,
   "metadata": {},
   "outputs": [],
   "source": [
    "FTSE"
   ]
  },
  {
   "cell_type": "code",
   "execution_count": null,
   "metadata": {},
   "outputs": [],
   "source": [
    "#show the index of DataFrame\n",
    "Smurfit.index"
   ]
  },
  {
   "cell_type": "code",
   "execution_count": null,
   "metadata": {},
   "outputs": [],
   "source": [
    "#check is there any point of Smurfit index different from Mondi index\n",
    "Smurfit.index.difference(Mondi.index)"
   ]
  },
  {
   "cell_type": "code",
   "execution_count": null,
   "metadata": {},
   "outputs": [],
   "source": [
    "#check is there any point of Smurffit index different from FTSE index\n",
    "Smurfit.index.difference(FTSE.index)"
   ]
  },
  {
   "cell_type": "code",
   "execution_count": null,
   "metadata": {},
   "outputs": [],
   "source": [
    "#What's the difference between this line and the above one?\n",
    "FTSE.index.difference(Smurfit.index)"
   ]
  },
  {
   "cell_type": "code",
   "execution_count": null,
   "metadata": {},
   "outputs": [],
   "source": [
    "#drop the row\n",
    "Smurfit=Smurfit.drop(['2020-12-22'])\n",
    "Mondi=Mondi.drop(['2020-12-22'])"
   ]
  },
  {
   "cell_type": "code",
   "execution_count": null,
   "metadata": {
    "scrolled": true
   },
   "outputs": [],
   "source": [
    "Smurfit.head(1)"
   ]
  },
  {
   "cell_type": "markdown",
   "metadata": {},
   "source": [
    "### Training and Test sets"
   ]
  },
  {
   "cell_type": "code",
   "execution_count": null,
   "metadata": {},
   "outputs": [],
   "source": [
    "# Drop the columns we don't need\n",
    "Smurfit=Smurfit.drop(columns=['Open','High','Low','Close','Volume'])\n",
    "Mondi=Mondi.drop(columns=['Open','High','Low','Close','Volume'])\n",
    "FTSE=FTSE.drop(columns=['Open','High','Low','Close','Volume'])"
   ]
  },
  {
   "cell_type": "code",
   "execution_count": null,
   "metadata": {
    "scrolled": true
   },
   "outputs": [],
   "source": [
    "# Training sets\n",
    "Smurfittr=Smurfit.iloc[0:484]\n",
    "Monditr=Mondi.iloc[0:484]\n",
    "FTSEtr=FTSE.iloc[0:484]"
   ]
  },
  {
   "cell_type": "code",
   "execution_count": null,
   "metadata": {},
   "outputs": [],
   "source": [
    "# Test set\n",
    "Smurfitte=Smurfit.iloc[484:504]\n",
    "Mondite=Mondi.iloc[484:504]\n",
    "FTSEte=FTSE.iloc[484:504]"
   ]
  },
  {
   "cell_type": "markdown",
   "metadata": {},
   "source": [
    "### Daily Returns"
   ]
  },
  {
   "cell_type": "code",
   "execution_count": null,
   "metadata": {},
   "outputs": [],
   "source": [
    "returns1=(Smurfittr['Adj Close']-Smurfittr.shift(1)['Adj Close'])/Smurfittr.shift(1)['Adj Close']\n",
    "returns2=(Monditr['Adj Close']-Monditr.shift(1)['Adj Close'])/Monditr.shift(1)['Adj Close']\n",
    "returns3=(FTSEtr['Adj Close']-FTSEtr.shift(1)['Adj Close'])/FTSEtr.shift(1)['Adj Close']"
   ]
  },
  {
   "cell_type": "code",
   "execution_count": null,
   "metadata": {
    "scrolled": true
   },
   "outputs": [],
   "source": [
    "Smurfittr['Return']=returns1\n",
    "Monditr['Return']=returns2\n",
    "FTSEtr['Return']=returns3"
   ]
  },
  {
   "cell_type": "code",
   "execution_count": null,
   "metadata": {},
   "outputs": [],
   "source": [
    "Smurfitte['Return']=(Smurfitte['Adj Close']-Smurfitte.shift(1)['Adj Close'])/Smurfitte.shift(1)['Adj Close']\n",
    "Smurfitte.iloc[0,1]=(Smurfitte.iloc[0,0]-Smurfittr.iloc[-1,0])/Smurfittr.iloc[-1,0]\n",
    "Mondite['Return']=(Mondite['Adj Close']-Mondite.shift(1)['Adj Close'])/Mondite.shift(1)['Adj Close']\n",
    "Mondite.iloc[0,1]=(Mondite.iloc[0,0]-Monditr.iloc[-1,0])/Monditr.iloc[-1,0]\n",
    "FTSEte['Return']=(FTSEte['Adj Close']-FTSEte.shift(1)['Adj Close'])/FTSEte.shift(1)['Adj Close']\n",
    "FTSEte.iloc[0,1]=(FTSEte.iloc[0,0]-FTSEtr.iloc[-1,0])/FTSEtr.iloc[-1,0]"
   ]
  },
  {
   "cell_type": "markdown",
   "metadata": {},
   "source": [
    "## Descriptive Analytics"
   ]
  },
  {
   "cell_type": "code",
   "execution_count": null,
   "metadata": {},
   "outputs": [],
   "source": [
    "Smurfittr['Adj Close'].plot(figsize=(15,10), label='Smurfit')\n",
    "Monditr['Adj Close'].plot(label='Mondi')\n",
    "FTSEtr['Adj Close'].plot(label='FTSE')\n",
    "plt.legend()\n",
    "plt.show()"
   ]
  },
  {
   "cell_type": "code",
   "execution_count": null,
   "metadata": {},
   "outputs": [],
   "source": [
    "#define a modified FTSE\n",
    "mFTSEtr=pd.DataFrame()\n",
    "mFTSEtr['m Adj Close']=FTSEtr['Adj Close']/10"
   ]
  },
  {
   "cell_type": "code",
   "execution_count": null,
   "metadata": {},
   "outputs": [],
   "source": [
    "Smurfittr['Adj Close'].plot(figsize=(15,10), label='Smurfit')\n",
    "Monditr['Adj Close'].plot(label='Mondi')\n",
    "mFTSEtr['m Adj Close'].plot(label='mFTSE')\n",
    "plt.legend()\n",
    "plt.show()"
   ]
  },
  {
   "cell_type": "code",
   "execution_count": null,
   "metadata": {},
   "outputs": [],
   "source": [
    "Smurfittr['Return'].plot(figsize=(15,10), label='Smurfit r')\n",
    "Monditr['Return'].plot(label='Mondi r')\n",
    "FTSEtr['Return'].plot(label='FTSE r')\n",
    "plt.legend()\n",
    "plt.show()"
   ]
  },
  {
   "cell_type": "code",
   "execution_count": null,
   "metadata": {},
   "outputs": [],
   "source": [
    "#Empirical Rules, Page 75 of Lecture 1\n",
    "Smurfittr['Return'].plot(figsize=(15,10), label='Smurfit r')\n",
    "plt.axhline(y=Smurfittr['Return'].mean()+2*Smurfittr['Return'].std(),label='+2s',color='g')\n",
    "plt.axhline(y=Smurfittr['Return'].mean()-2*Smurfittr['Return'].std(),label='-2s',color='r')\n",
    "plt.legend()\n",
    "plt.show()"
   ]
  },
  {
   "cell_type": "code",
   "execution_count": null,
   "metadata": {},
   "outputs": [],
   "source": [
    "#select rows by value \n",
    "pss=Smurfittr['Return'].mean()+2*Smurfittr['Return'].std()\n",
    "Smurfittr.loc[Smurfittr['Return']>=pss]"
   ]
  },
  {
   "cell_type": "code",
   "execution_count": null,
   "metadata": {},
   "outputs": [],
   "source": [
    "nss=Smurfittr['Return'].mean()-2*Smurfittr['Return'].std()\n",
    "Smurfittr.loc[Smurfittr['Return']<=nss]"
   ]
  },
  {
   "cell_type": "code",
   "execution_count": null,
   "metadata": {},
   "outputs": [],
   "source": [
    "Smurfittr.loc[Smurfittr['Return']==Smurfittr['Return'].min()]"
   ]
  },
  {
   "cell_type": "markdown",
   "metadata": {},
   "source": [
    "### Statistics"
   ]
  },
  {
   "cell_type": "code",
   "execution_count": null,
   "metadata": {},
   "outputs": [],
   "source": [
    "Smurfittr.describe()"
   ]
  },
  {
   "cell_type": "code",
   "execution_count": null,
   "metadata": {},
   "outputs": [],
   "source": [
    "Monditr.describe()"
   ]
  },
  {
   "cell_type": "code",
   "execution_count": null,
   "metadata": {},
   "outputs": [],
   "source": [
    "FTSEtr.describe()"
   ]
  },
  {
   "cell_type": "markdown",
   "metadata": {},
   "source": [
    "What can you find by comparing the above tables?"
   ]
  },
  {
   "cell_type": "code",
   "execution_count": null,
   "metadata": {},
   "outputs": [],
   "source": [
    "# Return to risk\n",
    "Smurfittr['Return'].mean()/Monditr['Return'].std()"
   ]
  },
  {
   "cell_type": "markdown",
   "metadata": {},
   "source": [
    "### Boxplot"
   ]
  },
  {
   "cell_type": "code",
   "execution_count": null,
   "metadata": {
    "scrolled": true
   },
   "outputs": [],
   "source": [
    "lgb=Smurfittr.boxplot(column='Return',whis=[0,100],grid=False)\n",
    "\n",
    "lgb.set_title(\"Smurfit Daily Returns\",fontsize=12)\n",
    "lgb.set_xlabel('Smurfit', fontsize=10)\n",
    "lgb.set_ylabel('Return', fontsize=10)\n",
    "lgb.set_xticks([])\n",
    "plt.show()"
   ]
  },
  {
   "cell_type": "code",
   "execution_count": null,
   "metadata": {},
   "outputs": [],
   "source": [
    "#Creturns=pd.concat([Smurfittr['Return'],Monditr['Return'],FTSEtr['Return']],axis=1)\n",
    "#Creturns.columns=['smurfit','Mondi','FTSE']"
   ]
  },
  {
   "cell_type": "code",
   "execution_count": null,
   "metadata": {},
   "outputs": [],
   "source": [
    "AllTrainingReturns=pd.DataFrame({'Smurfit r':Smurfittr['Return'],'Mondi r':Monditr['Return'],'FTSE r':FTSEtr['Return']})"
   ]
  },
  {
   "cell_type": "code",
   "execution_count": null,
   "metadata": {},
   "outputs": [],
   "source": [
    "AllTrainingReturns"
   ]
  },
  {
   "cell_type": "code",
   "execution_count": null,
   "metadata": {},
   "outputs": [],
   "source": [
    "AllTrainingReturns.boxplot(whis=[0,100],grid=False)\n",
    "plt.title('Comparing Daily Returns')\n",
    "plt.ylabel('Return')\n",
    "plt.show()"
   ]
  },
  {
   "cell_type": "markdown",
   "metadata": {},
   "source": [
    "### Histogram"
   ]
  },
  {
   "cell_type": "code",
   "execution_count": null,
   "metadata": {},
   "outputs": [],
   "source": [
    "Smurfittr.hist(column='Return',bins=20,grid=False)\n",
    "\n",
    "plt.title(\"Smurfit Daily Returns\",fontsize=12)\n",
    "plt.xlabel('Bin', fontsize=10)\n",
    "plt.ylabel('Frequency', fontsize=10)\n",
    "\n",
    "plt.axvline(Smurfittr['Return'].mean())\n",
    "plt.text(Smurfittr['Return'].mean()*1.1,150,'Mean: {:,.4f}'.format(Smurfittr['Return'].mean()))\n",
    "\n",
    "plt.axvline(Smurfittr['Return'].median(),color='r')\n",
    "plt.text(Smurfittr['Return'].median()*1.2,110,'Median: {:,.4f}'.format(Smurfittr['Return'].median()))\n",
    "\n",
    "plt.show()"
   ]
  },
  {
   "cell_type": "code",
   "execution_count": null,
   "metadata": {},
   "outputs": [],
   "source": [
    "# it's better to draw histograms individually by the above codes\n",
    "\n",
    "AllTrainingReturns.hist(bins=40,grid=False)\n",
    "plt.show()"
   ]
  },
  {
   "cell_type": "markdown",
   "metadata": {},
   "source": [
    "## Regression"
   ]
  },
  {
   "cell_type": "code",
   "execution_count": null,
   "metadata": {
    "scrolled": true
   },
   "outputs": [],
   "source": [
    "# The three dataframes have the same column names, we should change the names and merge them together\n",
    "Smurfittr.columns=['Smurfit_Price','Smurfit_Return']\n",
    "Monditr.columns=['Mondi_Price','Mondi_Return']\n",
    "FTSEtr.columns=['FTSE_Price','FTSE_Return']\n",
    "#concatenate them by columns\n",
    "OverallTraining=pd.concat([Smurfittr,Monditr,FTSEtr],axis=1)"
   ]
  },
  {
   "cell_type": "code",
   "execution_count": null,
   "metadata": {},
   "outputs": [],
   "source": [
    "OverallTraining.head()"
   ]
  },
  {
   "cell_type": "code",
   "execution_count": null,
   "metadata": {},
   "outputs": [],
   "source": [
    "OverallTraining.plot.scatter(x='Smurfit_Price',y='Mondi_Price',alpha=0.7)\n",
    "plt.show()"
   ]
  },
  {
   "cell_type": "code",
   "execution_count": null,
   "metadata": {
    "scrolled": true
   },
   "outputs": [],
   "source": [
    "pd.plotting.scatter_matrix(OverallTraining.iloc[:,[0,2,4]], alpha=0.7)\n",
    "plt.show()"
   ]
  },
  {
   "cell_type": "code",
   "execution_count": null,
   "metadata": {},
   "outputs": [],
   "source": [
    "OverallTraining.iloc[:,[0,2,4]].corr(method='pearson')"
   ]
  },
  {
   "cell_type": "code",
   "execution_count": null,
   "metadata": {
    "scrolled": true
   },
   "outputs": [],
   "source": [
    "pd.plotting.scatter_matrix(OverallTraining.iloc[:,[1,3,5]], alpha=0.7)\n",
    "plt.show()"
   ]
  },
  {
   "cell_type": "code",
   "execution_count": null,
   "metadata": {},
   "outputs": [],
   "source": [
    "OverallTraining.iloc[:,[1,3,5]].corr(method='pearson')"
   ]
  },
  {
   "cell_type": "code",
   "execution_count": null,
   "metadata": {},
   "outputs": [],
   "source": [
    "Smurfit_Mondi_reg=sfa.ols('Smurfit_Price ~ Mondi_Price', data=OverallTraining).fit()"
   ]
  },
  {
   "cell_type": "code",
   "execution_count": null,
   "metadata": {},
   "outputs": [],
   "source": [
    "Smurfit_Mondi_reg.summary()"
   ]
  },
  {
   "cell_type": "code",
   "execution_count": null,
   "metadata": {
    "scrolled": true
   },
   "outputs": [],
   "source": [
    "sa.graphics.plot_fit(Smurfit_Mondi_reg,exog_idx='Mondi_Price',vlines=False)\n",
    "plt.ylabel(\"Smurfit Price\")\n",
    "plt.xlabel(\"Mondi Price\")\n",
    "plt.title(\"Smurfit vs Mondi\")\n",
    "plt.show()"
   ]
  },
  {
   "cell_type": "code",
   "execution_count": null,
   "metadata": {},
   "outputs": [],
   "source": [
    "Smurfit_FTSE_rreg=sfa.ols('Smurfit_Return ~ FTSE_Return', data=OverallTraining).fit()"
   ]
  },
  {
   "cell_type": "code",
   "execution_count": null,
   "metadata": {
    "scrolled": true
   },
   "outputs": [],
   "source": [
    "Smurfit_FTSE_rreg.summary()"
   ]
  },
  {
   "cell_type": "code",
   "execution_count": null,
   "metadata": {},
   "outputs": [],
   "source": [
    "sa.graphics.plot_fit(Smurfit_FTSE_rreg,exog_idx='FTSE_Return',vlines=False)\n",
    "plt.ylabel(\"Smurfit Return\")\n",
    "plt.xlabel(\"FTSE Return\")\n",
    "plt.title(\"Smurfit vs FTSE\")\n",
    "plt.show()"
   ]
  },
  {
   "cell_type": "code",
   "execution_count": null,
   "metadata": {},
   "outputs": [],
   "source": [
    "# Multiple Regression\n",
    "Smurfit_Mondi_FTSE_reg=sfa.ols('Smurfit_Price ~ Mondi_Price + FTSE_Price', data=OverallTraining).fit()"
   ]
  },
  {
   "cell_type": "code",
   "execution_count": null,
   "metadata": {},
   "outputs": [],
   "source": [
    "Smurfit_Mondi_FTSE_reg.summary()"
   ]
  },
  {
   "cell_type": "markdown",
   "metadata": {},
   "source": [
    "## Time Series"
   ]
  },
  {
   "cell_type": "code",
   "execution_count": null,
   "metadata": {},
   "outputs": [],
   "source": [
    "Smurfitte.columns=['Smurfit_Price','Smurfit_Return']\n",
    "Mondite.columns=['Mondi_Price','Mondi_Return']\n",
    "FTSEte.columns=['FTSE_Price','FTSE_Return']"
   ]
  },
  {
   "cell_type": "markdown",
   "metadata": {},
   "source": [
    "### Moving Average"
   ]
  },
  {
   "cell_type": "code",
   "execution_count": null,
   "metadata": {},
   "outputs": [],
   "source": [
    "ma5=Smurfittr.rolling(5).mean()"
   ]
  },
  {
   "cell_type": "code",
   "execution_count": null,
   "metadata": {},
   "outputs": [],
   "source": [
    "ma20=Smurfittr.rolling(20).mean()"
   ]
  },
  {
   "cell_type": "code",
   "execution_count": null,
   "metadata": {},
   "outputs": [],
   "source": [
    "Smurfittr['Smurfit_Price'].plot(figsize=(15,10), title= 'Moving average', label='Price')\n",
    "ma5['Smurfit_Price'].plot(label='MA5')\n",
    "ma20['Smurfit_Price'].plot(label='MA20')\n",
    "plt.legend()\n",
    "plt.ylabel('Price',fontsize=15)\n",
    "plt.show()"
   ]
  },
  {
   "cell_type": "code",
   "execution_count": null,
   "metadata": {},
   "outputs": [],
   "source": [
    "#creat forecasts\n",
    "Smurfitma5fcsts=pd.Series([ma5['Smurfit_Price'][-1]]*20)\n",
    "Smurfitma5fcsts.index=Smurfitte.index"
   ]
  },
  {
   "cell_type": "code",
   "execution_count": null,
   "metadata": {},
   "outputs": [],
   "source": [
    "Smurfittr['Smurfit_Price'].plot(figsize=(15,10),label='train',title='5-day Moving Average')\n",
    "Smurfitte['Smurfit_Price'].plot(label='test')\n",
    "ma5['Smurfit_Price'].plot(label='fitted')\n",
    "Smurfitma5fcsts.plot(label='forecasts')\n",
    "plt.legend()\n",
    "plt.show()"
   ]
  },
  {
   "cell_type": "code",
   "execution_count": null,
   "metadata": {},
   "outputs": [],
   "source": [
    "MAE(Smurfitte['Smurfit_Price'],Smurfitma5fcsts)"
   ]
  },
  {
   "cell_type": "code",
   "execution_count": null,
   "metadata": {},
   "outputs": [],
   "source": [
    "MSE(Smurfitte['Smurfit_Price'],Smurfitma5fcsts)"
   ]
  },
  {
   "cell_type": "code",
   "execution_count": null,
   "metadata": {},
   "outputs": [],
   "source": [
    "print(\n",
    "    'MAE: {:,.4f}'.format(MAE(Smurfitte['Smurfit_Price'],Smurfitma5fcsts)),\n",
    "    '\\nMSE: {:,.4f}'.format(MSE(Smurfitte['Smurfit_Price'],Smurfitma5fcsts))\n",
    "                         )"
   ]
  },
  {
   "cell_type": "markdown",
   "metadata": {},
   "source": [
    "### Single Exponential Smoothing"
   ]
  },
  {
   "cell_type": "code",
   "execution_count": null,
   "metadata": {
    "scrolled": true
   },
   "outputs": [],
   "source": [
    "Smurfitses=SES(Smurfittr['Smurfit_Price'],initialization_method=\"estimated\").fit()"
   ]
  },
  {
   "cell_type": "code",
   "execution_count": null,
   "metadata": {},
   "outputs": [],
   "source": [
    "Smurfitsesfcsts=Smurfitses.forecast(20)\n",
    "Smurfitsesfcsts.index=Smurfitte.index"
   ]
  },
  {
   "cell_type": "code",
   "execution_count": null,
   "metadata": {},
   "outputs": [],
   "source": [
    "Smurfittr['Smurfit_Price'].plot(figsize=(15,10),marker='o',color='black',label='train',title='Single Exponential Smoothing')\n",
    "Smurfitte['Smurfit_Price'].plot(marker='o',color='brown',label='test')\n",
    "Smurfitses.fittedvalues.plot(marker='v', color='blue',label=r'$\\alpha=%s$'%Smurfitses.model.params['smoothing_level'])\n",
    "Smurfitsesfcsts.plot(marker='v', color='green',label='forecasts')\n",
    "plt.legend()\n",
    "plt.show()"
   ]
  },
  {
   "cell_type": "code",
   "execution_count": null,
   "metadata": {},
   "outputs": [],
   "source": [
    "print(\n",
    "    'MAE: {:,.4f}'.format(MAE(Smurfitte['Smurfit_Price'],Smurfitsesfcsts)),\n",
    "    '\\nMSE: {:,.4f}'.format(MSE(Smurfitte['Smurfit_Price'],Smurfitsesfcsts))\n",
    ")"
   ]
  },
  {
   "cell_type": "markdown",
   "metadata": {},
   "source": [
    "### Double Exponential Smoothing"
   ]
  },
  {
   "cell_type": "code",
   "execution_count": null,
   "metadata": {},
   "outputs": [],
   "source": [
    "Smurfitdes=DES(Smurfittr['Smurfit_Price'],initialization_method=\"estimated\").fit()"
   ]
  },
  {
   "cell_type": "code",
   "execution_count": null,
   "metadata": {},
   "outputs": [],
   "source": [
    "Smurfitdesfcsts=Smurfitdes.forecast(20)\n",
    "Smurfitdesfcsts.index=Smurfitte.index"
   ]
  },
  {
   "cell_type": "code",
   "execution_count": null,
   "metadata": {},
   "outputs": [],
   "source": [
    "Smurfittr['Smurfit_Price'].plot(figsize=(15,10),marker='o',color='black',label='train',title='Double Exponential Smoothing')\n",
    "Smurfitte['Smurfit_Price'].plot(marker='o',color='brown',label='test')\n",
    "Smurfitdes.fittedvalues.plot(marker='v', color='blue',label='fitted')\n",
    "Smurfitdesfcsts.plot(marker='v', color='green',label='forecasts')\n",
    "plt.legend()\n",
    "plt.show()"
   ]
  },
  {
   "cell_type": "code",
   "execution_count": null,
   "metadata": {},
   "outputs": [],
   "source": [
    "print(\n",
    "    'MAE: {:,.4f}'.format(MAE(Smurfitte['Smurfit_Price'],Smurfitdesfcsts)),\n",
    "    '\\nMSE: {:,.4f}'.format(MSE(Smurfitte['Smurfit_Price'],Smurfitdesfcsts))\n",
    ")"
   ]
  },
  {
   "cell_type": "markdown",
   "metadata": {},
   "source": [
    "### Holt's Winters (Additive)"
   ]
  },
  {
   "cell_type": "code",
   "execution_count": null,
   "metadata": {},
   "outputs": [],
   "source": [
    "Smurfittesa=TES(Smurfittr['Smurfit_Price'],seasonal_periods=4, trend='add', seasonal='add', use_boxcox=True, initialization_method=\"estimated\").fit()\n",
    "Smurfittesfcstsa=Smurfittesa.forecast(20)\n",
    "Smurfittesfcstsa.index=Smurfitte.index"
   ]
  },
  {
   "cell_type": "code",
   "execution_count": null,
   "metadata": {},
   "outputs": [],
   "source": [
    "Smurfittr['Smurfit_Price'].plot(figsize=(15,10),marker='o',color='black',label='train',title=\"Holt's Winters Method (Additive)\")\n",
    "Smurfitte['Smurfit_Price'].plot(marker='o',color='brown',label='test')\n",
    "Smurfittesa.fittedvalues.plot(marker='v', color='blue',label='fitted')\n",
    "Smurfittesfcstsa.plot(marker='v', color='green',label='forecasts')\n",
    "plt.legend()\n",
    "plt.show()"
   ]
  },
  {
   "cell_type": "code",
   "execution_count": null,
   "metadata": {},
   "outputs": [],
   "source": [
    "print(\n",
    "    'MAE: {:,.4f}'.format(MAE(Smurfitte['Smurfit_Price'],Smurfittesfcstsa)),\n",
    "    '\\nMSE: {:,.4f}'.format(MSE(Smurfitte['Smurfit_Price'],Smurfittesfcstsa))\n",
    ")"
   ]
  },
  {
   "cell_type": "markdown",
   "metadata": {},
   "source": [
    "### Holt's Winters (Multiplicative)"
   ]
  },
  {
   "cell_type": "code",
   "execution_count": null,
   "metadata": {},
   "outputs": [],
   "source": [
    "Smurfittesm=TES(Smurfittr['Smurfit_Price'],seasonal_periods=4, trend='add', seasonal='mul', use_boxcox=True, initialization_method=\"estimated\").fit()\n",
    "Smurfittesfcstsm=Smurfittesm.forecast(20)\n",
    "Smurfittesfcstsm.index=Smurfitte.index"
   ]
  },
  {
   "cell_type": "code",
   "execution_count": null,
   "metadata": {},
   "outputs": [],
   "source": [
    "Smurfittr['Smurfit_Price'].plot(figsize=(15,10),marker='o',color='black',label='train',title=\"Holt's Winters Method (Multiplicative)\")\n",
    "Smurfitte['Smurfit_Price'].plot(marker='o',color='brown',label='test')\n",
    "Smurfittesm.fittedvalues.plot(marker='v', color='blue',label='fitted')\n",
    "Smurfittesfcstsm.plot(marker='v', color='green',label='forecasts')\n",
    "plt.legend()\n",
    "plt.show()"
   ]
  },
  {
   "cell_type": "code",
   "execution_count": null,
   "metadata": {},
   "outputs": [],
   "source": [
    "print(\n",
    "    'MAE: {:,.4f}'.format(MAE(Smurfitte['Smurfit_Price'],Smurfittesfcstsm)),\n",
    "    '\\nMSE: {:,.4f}'.format(MSE(Smurfitte['Smurfit_Price'],Smurfittesfcstsm))\n",
    ")"
   ]
  }
 ],
 "metadata": {
  "kernelspec": {
   "display_name": "Python 3 (ipykernel)",
   "language": "python",
   "name": "python3"
  },
  "language_info": {
   "codemirror_mode": {
    "name": "ipython",
    "version": 3
   },
   "file_extension": ".py",
   "mimetype": "text/x-python",
   "name": "python",
   "nbconvert_exporter": "python",
   "pygments_lexer": "ipython3",
   "version": "3.12.7"
  }
 },
 "nbformat": 4,
 "nbformat_minor": 4
}
